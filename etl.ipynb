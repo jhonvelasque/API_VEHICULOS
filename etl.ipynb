{
 "cells": [
  {
   "attachments": {},
   "cell_type": "markdown",
   "metadata": {},
   "source": [
    "# MINI PRYECTO INGESTA DE DATOS A BD"
   ]
  },
  {
   "cell_type": "code",
   "execution_count": 1,
   "metadata": {},
   "outputs": [],
   "source": [
    "import pandas as pd"
   ]
  },
  {
   "attachments": {},
   "cell_type": "markdown",
   "metadata": {},
   "source": [
    "## opteniendo la lista de hojas del excel"
   ]
  },
  {
   "cell_type": "markdown",
   "metadata": {},
   "source": [
    "### forma1"
   ]
  },
  {
   "cell_type": "code",
   "execution_count": 45,
   "metadata": {},
   "outputs": [],
   "source": [
    "import openpyxl as op\n",
    "\n",
    "# Abrir el archivo de Excel\n",
    "libro = op.load_workbook('./Ventas-Avanzado.xlsx')\n",
    "\n",
    "# Obtener una lista de hojas\n",
    "lista_hojas = libro.sheetnames"
   ]
  },
  {
   "cell_type": "code",
   "execution_count": 47,
   "metadata": {},
   "outputs": [
    {
     "data": {
      "text/plain": [
       "['canal',\n",
       " 'Vendedor',\n",
       " 'fotoVehiculo',\n",
       " 'facturas',\n",
       " 'periodo',\n",
       " 'vehiculo',\n",
       " 'cliente',\n",
       " 'sede',\n",
       " 'calendario']"
      ]
     },
     "execution_count": 47,
     "metadata": {},
     "output_type": "execute_result"
    }
   ],
   "source": [
    "lista_hojas"
   ]
  },
  {
   "attachments": {},
   "cell_type": "markdown",
   "metadata": {},
   "source": [
    "### forma 2"
   ]
  },
  {
   "cell_type": "code",
   "execution_count": 39,
   "metadata": {},
   "outputs": [],
   "source": [
    "#creamos una lista de todas las hojas \n",
    "lista_hojas=list(pd.read_excel('./Ventas-Avanzado.xlsx',sheet_name=None).keys())"
   ]
  },
  {
   "cell_type": "code",
   "execution_count": 40,
   "metadata": {},
   "outputs": [],
   "source": [
    "#transformamos cada hoja a un archivo csv \n",
    "for i in range(len(lista_hojas)):\n",
    "    df=pd.read_excel('./Ventas-Avanzado.xlsx',sheet_name=lista_hojas[i])\n",
    "    df.to_csv(f'./data/{lista_hojas[i]}.csv',sep=',',index=False)"
   ]
  },
  {
   "attachments": {},
   "cell_type": "markdown",
   "metadata": {},
   "source": [
    "####   pasemos al pasemos al  [archivo sql](./llenado.sql)  donde ingresaremos cada registro de manera manual"
   ]
  },
  {
   "cell_type": "code",
   "execution_count": 10,
   "metadata": {},
   "outputs": [],
   "source": [
    "calendario=pd.read_csv('./data/calendario.csv')"
   ]
  },
  {
   "cell_type": "code",
   "execution_count": 4,
   "metadata": {},
   "outputs": [
    {
     "data": {
      "text/plain": [
       "0       20160101\n",
       "1       20160102\n",
       "2       20160103\n",
       "3       20160104\n",
       "4       20160105\n",
       "          ...   \n",
       "1091    20171227\n",
       "1092    20171228\n",
       "1093    20171229\n",
       "1094    20171230\n",
       "1095    20171231\n",
       "Name: datekey, Length: 1096, dtype: int64"
      ]
     },
     "execution_count": 4,
     "metadata": {},
     "output_type": "execute_result"
    }
   ],
   "source": [
    "calendario.datekey.drop_duplicates()"
   ]
  },
  {
   "cell_type": "code",
   "execution_count": 9,
   "metadata": {},
   "outputs": [
    {
     "data": {
      "text/plain": [
       "False    1096\n",
       "Name: datekey, dtype: int64"
      ]
     },
     "execution_count": 9,
     "metadata": {},
     "output_type": "execute_result"
    }
   ],
   "source": [
    "calendario.datekey.duplicated().value_counts()"
   ]
  },
  {
   "cell_type": "code",
   "execution_count": 11,
   "metadata": {},
   "outputs": [
    {
     "data": {
      "text/html": [
       "<div>\n",
       "<style scoped>\n",
       "    .dataframe tbody tr th:only-of-type {\n",
       "        vertical-align: middle;\n",
       "    }\n",
       "\n",
       "    .dataframe tbody tr th {\n",
       "        vertical-align: top;\n",
       "    }\n",
       "\n",
       "    .dataframe thead th {\n",
       "        text-align: right;\n",
       "    }\n",
       "</style>\n",
       "<table border=\"1\" class=\"dataframe\">\n",
       "  <thead>\n",
       "    <tr style=\"text-align: right;\">\n",
       "      <th></th>\n",
       "      <th>Fecha</th>\n",
       "      <th>Año</th>\n",
       "      <th>Semana</th>\n",
       "      <th>Mes</th>\n",
       "      <th>Numero Mes</th>\n",
       "      <th>datekey</th>\n",
       "    </tr>\n",
       "  </thead>\n",
       "  <tbody>\n",
       "  </tbody>\n",
       "</table>\n",
       "</div>"
      ],
      "text/plain": [
       "Empty DataFrame\n",
       "Columns: [Fecha, Año, Semana, Mes, Numero Mes, datekey]\n",
       "Index: []"
      ]
     },
     "execution_count": 11,
     "metadata": {},
     "output_type": "execute_result"
    }
   ],
   "source": [
    "calendario[calendario.datekey==8388607]"
   ]
  },
  {
   "cell_type": "code",
   "execution_count": 2,
   "metadata": {},
   "outputs": [],
   "source": [
    "vehiculos = [\n",
    "    {\n",
    "\t\t\"idVehiculo\": 1,\n",
    "\t\t\"marcaVehiculo\": \"HONDA\",\n",
    "\t\t\"marcaVehiculo\": \"CIVIC\",\n",
    "\t\t\"tipo\": \"AUTO\",\n",
    "\t\t\"anio\": 2020,\n",
    "\t},\n",
    "    {\n",
    "\t\t\"idVehiculo\": 2,\n",
    "\t\t\"marcaVehiculo\": \"MAZDA\",\n",
    "\t\t\"modelo\": \"CRV\",\n",
    "\t\t\"tipo\": \"AUTO\",\n",
    "\t\t\"anio\": 2020,\n",
    "\t}\n",
    "]"
   ]
  },
  {
   "cell_type": "code",
   "execution_count": 7,
   "metadata": {},
   "outputs": [
    {
     "name": "stdout",
     "output_type": "stream",
     "text": [
      "1\n",
      "hola\n",
      "2\n"
     ]
    }
   ],
   "source": [
    "for i in vehiculos:\n",
    "    print(i[\"idVehiculo\"])\n",
    "    if i[\"idVehiculo\"]==1:\n",
    "        print('hola')"
   ]
  },
  {
   "cell_type": "code",
   "execution_count": 5,
   "metadata": {},
   "outputs": [
    {
     "data": {
      "text/plain": [
       "{'idVehiculo': 2,\n",
       " 'marcaVehiculo': 'MAZDA',\n",
       " 'modelo': 'CRV',\n",
       " 'tipo': 'AUTO',\n",
       " 'anio': 2020}"
      ]
     },
     "execution_count": 5,
     "metadata": {},
     "output_type": "execute_result"
    }
   ],
   "source": [
    "vehiculos[1]"
   ]
  }
 ],
 "metadata": {
  "kernelspec": {
   "display_name": "Python 3",
   "language": "python",
   "name": "python3"
  },
  "language_info": {
   "codemirror_mode": {
    "name": "ipython",
    "version": 3
   },
   "file_extension": ".py",
   "mimetype": "text/x-python",
   "name": "python",
   "nbconvert_exporter": "python",
   "pygments_lexer": "ipython3",
   "version": "3.10.4"
  },
  "orig_nbformat": 4,
  "vscode": {
   "interpreter": {
    "hash": "c31b47558886100f5e2dc8c1ad55f5eb711012b47e94cfd1bdece9e0e9c75259"
   }
  }
 },
 "nbformat": 4,
 "nbformat_minor": 2
}
